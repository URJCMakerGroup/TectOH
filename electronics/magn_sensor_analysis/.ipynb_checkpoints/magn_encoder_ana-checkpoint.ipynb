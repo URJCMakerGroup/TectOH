{
 "cells": [
  {
   "cell_type": "markdown",
   "id": "751156a8",
   "metadata": {},
   "source": [
    "## Magnetic Encoder Analysis"
   ]
  },
  {
   "cell_type": "code",
   "execution_count": null,
   "id": "53f6da31",
   "metadata": {},
   "outputs": [],
   "source": [
    "import matplotlib.pyplot as plt\n",
    "import numpy as np\n",
    "from scipy import signal"
   ]
  },
  {
   "cell_type": "markdown",
   "id": "b9308da2",
   "metadata": {},
   "source": [
    "### Select File by uncommenting"
   ]
  },
  {
   "cell_type": "code",
   "execution_count": null,
   "id": "13397d6e",
   "metadata": {},
   "outputs": [],
   "source": [
    "result_filename = \"./bin/capture_10_1.bin\"\n",
    "#result_filename = \"./bin/capture_25_1.bin\"\n",
    "#result_filename = \"./bin/capture_50_1.bin\"\n",
    "#result_filename = \"./bin/capture_82_1.bin\"\n",
    "#result_filename = \"./bin/capture_100_1.bin\""
   ]
  },
  {
   "cell_type": "markdown",
   "id": "dfb7508e",
   "metadata": {},
   "source": [
    "Analysis"
   ]
  },
  {
   "cell_type": "code",
   "execution_count": null,
   "id": "eb92529c",
   "metadata": {},
   "outputs": [],
   "source": []
  }
 ],
 "metadata": {
  "kernelspec": {
   "display_name": "Python 3 (ipykernel)",
   "language": "python",
   "name": "python3"
  },
  "language_info": {
   "codemirror_mode": {
    "name": "ipython",
    "version": 3
   },
   "file_extension": ".py",
   "mimetype": "text/x-python",
   "name": "python",
   "nbconvert_exporter": "python",
   "pygments_lexer": "ipython3",
   "version": "3.8.10"
  }
 },
 "nbformat": 4,
 "nbformat_minor": 5
}
