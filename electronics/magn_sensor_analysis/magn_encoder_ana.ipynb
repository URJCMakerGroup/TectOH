{
 "cells": [
  {
   "cell_type": "markdown",
   "id": "7ea4529c",
   "metadata": {},
   "source": [
    "## Magnetic Encoder Analysis"
   ]
  },
  {
   "cell_type": "code",
   "execution_count": 1,
   "id": "a86e812f",
   "metadata": {},
   "outputs": [],
   "source": [
    "import matplotlib.pyplot as plt\n",
    "import numpy as np\n",
    "from scipy import signal\n",
    "\n",
    "# directory where the received binary files are\n",
    "DIR = \"./files/\"\n",
    "DIR = \"./files_nov/\""
   ]
  },
  {
   "cell_type": "markdown",
   "id": "9ff14ce5",
   "metadata": {},
   "source": [
    "### Select File by uncommenting"
   ]
  },
  {
   "cell_type": "code",
   "execution_count": 2,
   "id": "1b5e51c4",
   "metadata": {},
   "outputs": [],
   "source": [
    "data_filename = \"capture_10_1.bin\"\n",
    "data_filename = \"capture_25_1.bin\"\n",
    "data_filename = \"capture_50_1.bin\"\n",
    "data_filename = \"capture_82_1.bin\"\n",
    "#data_filename = \"capture_100_1.bin\"\n",
    "\n",
    "# --- November 2022 experiments\n",
    "data_filename = \"mov_100mmh_1_to_10_fallo.bin\"\n",
    "#data_filename = \"mov_100mmh_1_to_20.bin\"\n",
    "#data_filename = \"mov_25mmh_10_to_20_cont_50.bin\"\n",
    "#data_filename = \"mov_25mmh_1_to_5.bin\"\n",
    "#data_filename = \"mov_25mmh_cont_50.bin\"\n",
    "#data_filename = \"mov_75mmh_1_to_20.bin\"\n",
    "\n",
    "data_fulfilename = DIR + data_filename"
   ]
  },
  {
   "cell_type": "markdown",
   "id": "33bf4cd1",
   "metadata": {},
   "source": [
    "Analysis"
   ]
  },
  {
   "cell_type": "code",
   "execution_count": 3,
   "id": "d3b20cbd",
   "metadata": {},
   "outputs": [
    {
     "name": "stdout",
     "output_type": "stream",
     "text": [
      "Number of samples 2562632\n"
     ]
    }
   ],
   "source": [
    "with open(data_fulfilename,\"rb\") as f:\n",
    "    raw = f.read()\n",
    "\n",
    "# each data is taken every 250 us\n",
    "data = []\n",
    "\n",
    "numdata = len(raw)\n",
    "print(\"Number of samples\", numdata)\n"
   ]
  },
  {
   "cell_type": "code",
   "execution_count": 4,
   "id": "d08193b7",
   "metadata": {},
   "outputs": [
    {
     "data": {
      "image/png": "[encoded data removed]",
      "text/plain": [
       "<Figure size 1152x1152 with 1 Axes>"
      ]
     },
     "metadata": {
      "needs_background": "light"
     },
     "output_type": "display_data"
    }
   ],
   "source": [
    "for data_i in range(numdata):\n",
    "    data.append(raw[data_i])\n",
    "    \n",
    "# do the median filter\n",
    "window = 9\n",
    "# take window an odd value, same number of data in each side\n",
    "if window % 2 == 0:\n",
    "    window + 1\n",
    "    \n",
    "#print(window)\n",
    "\n",
    "side_window = int(window/2)\n",
    "#print(side_window) # the pixels at each side\n",
    "\n",
    "filter_data = []\n",
    "time = [] # although we are filtering, it is ok to start at zero\n",
    "\n",
    "primer = 1\n",
    "base = 0\n",
    "for index, data_i in enumerate(data):\n",
    "    # example window=9, side_window=4\n",
    "    #         numdata=20 (0 to 19)\n",
    "    # when the index is 4 or larger, it has 4 data on the left: 0,1,2,3\n",
    "    # or when the index is 15 < numdata-side_window)\n",
    "    \n",
    "    if index >= side_window and index < numdata-side_window:\n",
    "        data_window = data[index-side_window:index+side_window+1]\n",
    "        \n",
    "        filter_data.append(int(np.median(data_window)))\n",
    "        time.append(0.25 * (index-side_window))\n",
    "        if primer==1:\n",
    "            #print(data_window)\n",
    "            primer = 0\n",
    "\n",
    "\n",
    "            \n",
    "plt.figure(figsize=(16,16))\n",
    "plt.plot(time, filter_data)\n",
    "plt.xlabel('Time')\n",
    "plt.ylabel('Position (??)')\n",
    "plt.show()\n",
    "\n",
    "            \n",
    "#filter_data"
   ]
  },
  {
   "cell_type": "code",
   "execution_count": 5,
   "id": "642b665b",
   "metadata": {},
   "outputs": [
    {
     "name": "stdout",
     "output_type": "stream",
     "text": [
      "hol\n"
     ]
    }
   ],
   "source": [
    "li = [2,3,5 , 6, 290]\n",
    "if max(li) - min(li) > 100: \n",
    "    print('hol')\n"
   ]
  },
  {
   "cell_type": "code",
   "execution_count": 6,
   "id": "2f50b7ea",
   "metadata": {},
   "outputs": [
    {
     "name": "stdout",
     "output_type": "stream",
     "text": [
      "df\n"
     ]
    }
   ],
   "source": [
    "if li:\n",
    "    print('df')"
   ]
  },
  {
   "cell_type": "code",
   "execution_count": 7,
   "id": "1d934628",
   "metadata": {},
   "outputs": [
    {
     "name": "stdout",
     "output_type": "stream",
     "text": [
      "v\n"
     ]
    }
   ],
   "source": [
    "la = []\n",
    "if la:\n",
    "    print('df')\n",
    "else:\n",
    "    print('v')"
   ]
  },
  {
   "cell_type": "code",
   "execution_count": null,
   "id": "a40e8b9e",
   "metadata": {},
   "outputs": [],
   "source": []
  }
 ],
 "metadata": {
  "kernelspec": {
   "display_name": "Python 3 (ipykernel)",
   "language": "python",
   "name": "python3"
  },
  "language_info": {
   "codemirror_mode": {
    "name": "ipython",
    "version": 3
   },
   "file_extension": ".py",
   "mimetype": "text/x-python",
   "name": "python",
   "nbconvert_exporter": "python",
   "pygments_lexer": "ipython3",
   "version": "3.8.10"
  }
 },
 "nbformat": 4,
 "nbformat_minor": 5
}
